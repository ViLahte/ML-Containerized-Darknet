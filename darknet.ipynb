{
 "metadata": {
  "language_info": {
   "codemirror_mode": {
    "name": "ipython",
    "version": 3
   },
   "file_extension": ".py",
   "mimetype": "text/x-python",
   "name": "python",
   "nbconvert_exporter": "python",
   "pygments_lexer": "ipython3",
   "version": 3
  },
  "orig_nbformat": 2
 },
 "nbformat": 4,
 "nbformat_minor": 2,
 "cells": [
  {
   "source": [
    "# Short example on darknet python bindings\n",
    "- darknet.py is provided in [AlexeyAB's darknet repository](https://github.com/AlexeyAB/darknet)."
   ],
   "cell_type": "markdown",
   "metadata": {}
  },
  {
   "cell_type": "code",
   "execution_count": null,
   "metadata": {},
   "outputs": [],
   "source": [
    "!nvidia-smi"
   ]
  },
  {
   "cell_type": "code",
   "execution_count": null,
   "metadata": {},
   "outputs": [],
   "source": [
    "import darknet"
   ]
  },
  {
   "cell_type": "code",
   "execution_count": null,
   "metadata": {},
   "outputs": [],
   "source": [
    "networkConfigPath = \"data/_dataset_.cfg\"\n",
    "datasetConfigPath = \"data/_dataset_.data\"\n",
    "weightPath = \"_dataset_.weights\"\n"
   ]
  },
  {
   "cell_type": "code",
   "execution_count": null,
   "metadata": {},
   "outputs": [],
   "source": [
    "filename = \"person.jpg\"\n",
    "threshold = 0.25"
   ]
  },
  {
   "cell_type": "code",
   "execution_count": null,
   "metadata": {},
   "outputs": [],
   "source": [
    "net = darknet.load_net(bytes(networkConfigPath, \"ascii\"), bytes(weightPath, \"ascii\"), 0)\n",
    "meta = darknet.load_meta(bytes(datasetConfigPath, \"ascii\"))\n",
    "detection = darknet.detect(net, meta, bytes(filename, \"ascii\"), threshold)"
   ]
  },
  {
   "cell_type": "code",
   "execution_count": null,
   "metadata": {},
   "outputs": [],
   "source": [
    "print(detection)"
   ]
  }
 ]
}